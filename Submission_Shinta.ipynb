{
  "nbformat": 4,
  "nbformat_minor": 0,
  "metadata": {
    "colab": {
      "provenance": []
    },
    "kernelspec": {
      "name": "python3",
      "display_name": "Python 3"
    },
    "language_info": {
      "name": "python"
    }
  },
  "cells": [
    {
      "cell_type": "markdown",
      "source": [
        "#**Proyek Akhir : Klasifikasi Gambar**\n",
        "##oleh : Shinta Riandini\n",
        "\n",
        "Berikut kriteria submission yang harus Anda penuhi:\n",
        "* Dataset yang dipakai haruslah dataset berikut : rockpaperscissors, atau gunakan link ini pada wget command: https://github.com/dicodingacademy/assets/releases/download/release/rockpaperscissors.zip.\n",
        "* Dataset harus dibagi menjadi train set dan validation set.\n",
        "* Ukuran validation set harus 40% dari total dataset (data training memiliki 1314 sampel, dan data validasi sebanyak 874 sampel).\n",
        "* Harus mengimplementasikan augmentasi gambar.\n",
        "* Menggunakan image data generator.\n",
        "* Model harus menggunakan model sequential.\n",
        "* Pelatihan model tidak melebihi waktu 30 menit.\n",
        "* Program dikerjakan pada Google Colaboratory.\n",
        "* Akurasi dari model minimal 85%.\n",
        "* Dapat memprediksi gambar yang diunggah ke Colab seperti gambar di bawah."
      ],
      "metadata": {
        "id": "gHS6aAotmAx7"
      }
    },
    {
      "cell_type": "code",
      "execution_count": 90,
      "metadata": {
        "id": "g6VKBF7Klgiv"
      },
      "outputs": [],
      "source": [
        "#menyiapkan library tansorflow\n",
        "import tensorflow as tf\n",
        "from tensorflow.keras.optimizers import RMSprop\n",
        "from tensorflow.keras.preprocessing.image import ImageDataGenerator"
      ]
    },
    {
      "cell_type": "code",
      "source": [
        "#menyiapkan dataset dan mengekstraksi pada file zip\n",
        "import zipfile, os\n",
        "from google.colab import drive\n",
        "from google.colab import files\n",
        "\n",
        "drive.mount('/content/gdrive')#hubungkan ke gdrive\n",
        "%cd /content/gdrive/MyDrive/MLDicoding\n",
        "local_zip ='/content/gdrive/MyDrive/MLDicoding/rockpaperscissors.zip'\n",
        "zip_ref = zipfile.ZipFile(local_zip, 'r')\n",
        "zip_ref.extractall('/content/gdrive/MyDrive/MLDicoding/')\n",
        "zip_ref.close()\n",
        "\n",
        "base_dir = '/content/gdrive/MyDrive/MLDicoding/rockpaperscissors/rps-cv-images'\n"
      ],
      "metadata": {
        "id": "QkEM2t-KoeJx",
        "colab": {
          "base_uri": "https://localhost:8080/"
        },
        "outputId": "eb5d469f-91f3-4e50-d2b6-5357fc742b35"
      },
      "execution_count": 94,
      "outputs": [
        {
          "output_type": "stream",
          "name": "stdout",
          "text": [
            "Drive already mounted at /content/gdrive; to attempt to forcibly remount, call drive.mount(\"/content/gdrive\", force_remount=True).\n",
            "/content/gdrive/MyDrive/MLDicoding\n"
          ]
        }
      ]
    },
    {
      "cell_type": "code",
      "source": [
        "# tampilkan daftar file\n",
        "os.listdir(base_dir)"
      ],
      "metadata": {
        "id": "0lEQ5x7Ooyk6",
        "colab": {
          "base_uri": "https://localhost:8080/"
        },
        "outputId": "714d2d32-7181-4593-9a42-b7149d9a1ceb"
      },
      "execution_count": 95,
      "outputs": [
        {
          "output_type": "execute_result",
          "data": {
            "text/plain": [
              "['paper', 'rock', 'scissors', 'README_rpc-cv-images.txt']"
            ]
          },
          "metadata": {},
          "execution_count": 95
        }
      ]
    },
    {
      "cell_type": "code",
      "source": [
        "# augmentasi gambar (Imange data generator)\n",
        "train_datagen = ImageDataGenerator(\n",
        "    rescale = 1./255,\n",
        "    rotation_range = 20,\n",
        "    horizontal_flip = True,\n",
        "    shear_range = 0.2,\n",
        "    fill_mode = 'wrap',\n",
        "    validation_split = 0.4 #40% data validasi, 60% data train\n",
        ")"
      ],
      "metadata": {
        "id": "6WQlS39yo0iA"
      },
      "execution_count": 96,
      "outputs": []
    },
    {
      "cell_type": "code",
      "source": [
        "# Menyiapkan data training dan data validation (train set dan validasi set)\n",
        "\n",
        "training_generator = train_datagen.flow_from_directory(\n",
        "    base_dir,\n",
        "    target_size = (100, 150),\n",
        "    shuffle = True,\n",
        "    subset = 'training' # menghasilkan batch gambar training (1.314 sampel)\n",
        ")\n",
        "\n",
        "validation_generator = train_datagen.flow_from_directory(\n",
        "    base_dir,\n",
        "    target_size = (100, 150),\n",
        "    subset = 'validation' # menghasilkan batch gambar validation (874 sampel)\n",
        ")"
      ],
      "metadata": {
        "id": "O7R0SlLAo59t",
        "colab": {
          "base_uri": "https://localhost:8080/"
        },
        "outputId": "99b52cbc-844e-47f0-ce58-3919d1f80b8e"
      },
      "execution_count": 97,
      "outputs": [
        {
          "output_type": "stream",
          "name": "stdout",
          "text": [
            "Found 1314 images belonging to 3 classes.\n",
            "Found 874 images belonging to 3 classes.\n"
          ]
        }
      ]
    },
    {
      "cell_type": "code",
      "source": [
        "# model neural network untuk klasifikasikan gambar yang membentuk gunting, batu, atau kertas.\n",
        "model = tf.keras.models.Sequential([\n",
        "    tf.keras.layers.Conv2D(16, (3,3), activation = 'relu', input_shape = (100, 150, 3)),\n",
        "    tf.keras.layers.MaxPooling2D(2,2),\n",
        "    tf.keras.layers.Conv2D(32, (3,3), activation = 'relu'),\n",
        "    tf.keras.layers.MaxPooling2D(2,2),\n",
        "    tf.keras.layers.Conv2D(64, (3,3), activation = 'relu'),\n",
        "    tf.keras.layers.MaxPooling2D(2,2),\n",
        "    tf.keras.layers.Flatten(),\n",
        "    tf.keras.layers.Dense(512, activation = 'relu'),\n",
        "    tf.keras.layers.Dense(3, activation = 'softmax')\n",
        "])"
      ],
      "metadata": {
        "id": "sstgR614o8ym"
      },
      "execution_count": 98,
      "outputs": []
    },
    {
      "cell_type": "code",
      "source": [
        "# kompilasi model untuk proses pelatihan model.\n",
        "model.compile(\n",
        "    loss = 'categorical_crossentropy',\n",
        "    optimizer = tf.optimizers.Adam(),\n",
        "    metrics = ['accuracy']\n",
        ")"
      ],
      "metadata": {
        "id": "2lY0pbJOo-8b"
      },
      "execution_count": 99,
      "outputs": []
    },
    {
      "cell_type": "code",
      "source": [
        "# melatih model yang dibuat dengan model fit (kira-kira 5 menitan)\n",
        "model.fit(\n",
        "    training_generator,\n",
        "    steps_per_epoch = 20,\n",
        "    epochs = 15,\n",
        "    validation_data = validation_generator,\n",
        "    validation_steps = 4,\n",
        "    verbose = 2\n",
        ")"
      ],
      "metadata": {
        "id": "pN2xS8QLpA5_",
        "colab": {
          "base_uri": "https://localhost:8080/"
        },
        "outputId": "6785248f-0a57-4b7e-e11e-e25d0e9392f2"
      },
      "execution_count": 100,
      "outputs": [
        {
          "output_type": "stream",
          "name": "stdout",
          "text": [
            "Epoch 1/15\n",
            "20/20 - 20s - loss: 1.1407 - accuracy: 0.4033 - val_loss: 1.0442 - val_accuracy: 0.4609 - 20s/epoch - 981ms/step\n",
            "Epoch 2/15\n",
            "20/20 - 18s - loss: 0.8584 - accuracy: 0.6578 - val_loss: 0.6272 - val_accuracy: 0.7969 - 18s/epoch - 887ms/step\n",
            "Epoch 3/15\n",
            "20/20 - 20s - loss: 0.4947 - accuracy: 0.8361 - val_loss: 0.3719 - val_accuracy: 0.8516 - 20s/epoch - 1s/step\n",
            "Epoch 4/15\n",
            "20/20 - 18s - loss: 0.3637 - accuracy: 0.8734 - val_loss: 0.3080 - val_accuracy: 0.8906 - 18s/epoch - 884ms/step\n",
            "Epoch 5/15\n",
            "20/20 - 17s - loss: 0.2660 - accuracy: 0.9082 - val_loss: 0.2844 - val_accuracy: 0.8984 - 17s/epoch - 832ms/step\n",
            "Epoch 6/15\n",
            "20/20 - 17s - loss: 0.2345 - accuracy: 0.9213 - val_loss: 0.1989 - val_accuracy: 0.9609 - 17s/epoch - 847ms/step\n",
            "Epoch 7/15\n",
            "20/20 - 17s - loss: 0.2103 - accuracy: 0.9213 - val_loss: 0.1511 - val_accuracy: 0.9609 - 17s/epoch - 849ms/step\n",
            "Epoch 8/15\n",
            "20/20 - 17s - loss: 0.1903 - accuracy: 0.9484 - val_loss: 0.3580 - val_accuracy: 0.8594 - 17s/epoch - 868ms/step\n",
            "Epoch 9/15\n",
            "20/20 - 17s - loss: 0.1868 - accuracy: 0.9328 - val_loss: 0.2688 - val_accuracy: 0.9219 - 17s/epoch - 871ms/step\n",
            "Epoch 10/15\n",
            "20/20 - 18s - loss: 0.1959 - accuracy: 0.9312 - val_loss: 0.1564 - val_accuracy: 0.9531 - 18s/epoch - 881ms/step\n",
            "Epoch 11/15\n",
            "20/20 - 18s - loss: 0.1599 - accuracy: 0.9426 - val_loss: 0.1765 - val_accuracy: 0.9688 - 18s/epoch - 880ms/step\n",
            "Epoch 12/15\n",
            "20/20 - 17s - loss: 0.1678 - accuracy: 0.9393 - val_loss: 0.2709 - val_accuracy: 0.8984 - 17s/epoch - 858ms/step\n",
            "Epoch 13/15\n",
            "20/20 - 17s - loss: 0.1551 - accuracy: 0.9459 - val_loss: 0.2025 - val_accuracy: 0.9453 - 17s/epoch - 864ms/step\n",
            "Epoch 14/15\n",
            "20/20 - 20s - loss: 0.1494 - accuracy: 0.9484 - val_loss: 0.2563 - val_accuracy: 0.9297 - 20s/epoch - 1s/step\n",
            "Epoch 15/15\n",
            "20/20 - 17s - loss: 0.1336 - accuracy: 0.9574 - val_loss: 0.1823 - val_accuracy: 0.9609 - 17s/epoch - 869ms/step\n"
          ]
        },
        {
          "output_type": "execute_result",
          "data": {
            "text/plain": [
              "<keras.src.callbacks.History at 0x7e592e9a6ec0>"
            ]
          },
          "metadata": {},
          "execution_count": 100
        }
      ]
    },
    {
      "cell_type": "code",
      "source": [
        "# PENGUJIAN UNTUK MENGUJI GAMBAR BARU (disini saya download gambar contoh dari google)\n",
        "# Import library dan modul yang dibutuhkan untuk pengujian\n",
        "import numpy as np\n",
        "from google.colab import files\n",
        "from tensorflow.keras.preprocessing import image\n",
        "import matplotlib.pyplot as plt\n",
        "import matplotlib.image as mpimg\n",
        "%matplotlib inline\n",
        "\n",
        "uploaded = files.upload()\n",
        "\n",
        "# perulangan untuk setiap gambar yang diupload\n",
        "for gambar in uploaded.keys():\n",
        "# predicting images\n",
        "  path = gambar\n",
        "  img = image.load_img(path, target_size = (100, 150))\n",
        "  imgplot = plt.imshow(img)\n",
        "  x = image.img_to_array(img)\n",
        "  x = np.expand_dims(x, axis = 0)\n",
        "\n",
        "  images = np.vstack([x])\n",
        "  clasification = model.predict(images, batch_size = 10)\n",
        "\n",
        "# menampilkan gambar yang diupload dan kategorinya\n",
        "  print(gambar)\n",
        "  if clasification[0][0] == 1:\n",
        "    print(\"Ini adalah Gambar Kertas (Paper)\")\n",
        "  elif clasification[0][1] == 1:\n",
        "    print(\"Ini adalah Gambar Batu (Rock)\")\n",
        "  elif clasification[0][2] == 1:\n",
        "    print(\"Ini adalah Gambar Gunting (Scissor)\")\n",
        "  else:\n",
        "    print(\"Ini adalah Gambar yang tidak dikenali\")"
      ],
      "metadata": {
        "id": "zg33SZ4spGR8",
        "colab": {
          "base_uri": "https://localhost:8080/",
          "height": 503
        },
        "outputId": "c486cf96-8188-41e3-ae26-b37efbbb15e6"
      },
      "execution_count": 102,
      "outputs": [
        {
          "output_type": "display_data",
          "data": {
            "text/plain": [
              "<IPython.core.display.HTML object>"
            ],
            "text/html": [
              "\n",
              "     <input type=\"file\" id=\"files-630b75ce-781b-4025-a0f5-801be505bf85\" name=\"files[]\" multiple disabled\n",
              "        style=\"border:none\" />\n",
              "     <output id=\"result-630b75ce-781b-4025-a0f5-801be505bf85\">\n",
              "      Upload widget is only available when the cell has been executed in the\n",
              "      current browser session. Please rerun this cell to enable.\n",
              "      </output>\n",
              "      <script>// Copyright 2017 Google LLC\n",
              "//\n",
              "// Licensed under the Apache License, Version 2.0 (the \"License\");\n",
              "// you may not use this file except in compliance with the License.\n",
              "// You may obtain a copy of the License at\n",
              "//\n",
              "//      http://www.apache.org/licenses/LICENSE-2.0\n",
              "//\n",
              "// Unless required by applicable law or agreed to in writing, software\n",
              "// distributed under the License is distributed on an \"AS IS\" BASIS,\n",
              "// WITHOUT WARRANTIES OR CONDITIONS OF ANY KIND, either express or implied.\n",
              "// See the License for the specific language governing permissions and\n",
              "// limitations under the License.\n",
              "\n",
              "/**\n",
              " * @fileoverview Helpers for google.colab Python module.\n",
              " */\n",
              "(function(scope) {\n",
              "function span(text, styleAttributes = {}) {\n",
              "  const element = document.createElement('span');\n",
              "  element.textContent = text;\n",
              "  for (const key of Object.keys(styleAttributes)) {\n",
              "    element.style[key] = styleAttributes[key];\n",
              "  }\n",
              "  return element;\n",
              "}\n",
              "\n",
              "// Max number of bytes which will be uploaded at a time.\n",
              "const MAX_PAYLOAD_SIZE = 100 * 1024;\n",
              "\n",
              "function _uploadFiles(inputId, outputId) {\n",
              "  const steps = uploadFilesStep(inputId, outputId);\n",
              "  const outputElement = document.getElementById(outputId);\n",
              "  // Cache steps on the outputElement to make it available for the next call\n",
              "  // to uploadFilesContinue from Python.\n",
              "  outputElement.steps = steps;\n",
              "\n",
              "  return _uploadFilesContinue(outputId);\n",
              "}\n",
              "\n",
              "// This is roughly an async generator (not supported in the browser yet),\n",
              "// where there are multiple asynchronous steps and the Python side is going\n",
              "// to poll for completion of each step.\n",
              "// This uses a Promise to block the python side on completion of each step,\n",
              "// then passes the result of the previous step as the input to the next step.\n",
              "function _uploadFilesContinue(outputId) {\n",
              "  const outputElement = document.getElementById(outputId);\n",
              "  const steps = outputElement.steps;\n",
              "\n",
              "  const next = steps.next(outputElement.lastPromiseValue);\n",
              "  return Promise.resolve(next.value.promise).then((value) => {\n",
              "    // Cache the last promise value to make it available to the next\n",
              "    // step of the generator.\n",
              "    outputElement.lastPromiseValue = value;\n",
              "    return next.value.response;\n",
              "  });\n",
              "}\n",
              "\n",
              "/**\n",
              " * Generator function which is called between each async step of the upload\n",
              " * process.\n",
              " * @param {string} inputId Element ID of the input file picker element.\n",
              " * @param {string} outputId Element ID of the output display.\n",
              " * @return {!Iterable<!Object>} Iterable of next steps.\n",
              " */\n",
              "function* uploadFilesStep(inputId, outputId) {\n",
              "  const inputElement = document.getElementById(inputId);\n",
              "  inputElement.disabled = false;\n",
              "\n",
              "  const outputElement = document.getElementById(outputId);\n",
              "  outputElement.innerHTML = '';\n",
              "\n",
              "  const pickedPromise = new Promise((resolve) => {\n",
              "    inputElement.addEventListener('change', (e) => {\n",
              "      resolve(e.target.files);\n",
              "    });\n",
              "  });\n",
              "\n",
              "  const cancel = document.createElement('button');\n",
              "  inputElement.parentElement.appendChild(cancel);\n",
              "  cancel.textContent = 'Cancel upload';\n",
              "  const cancelPromise = new Promise((resolve) => {\n",
              "    cancel.onclick = () => {\n",
              "      resolve(null);\n",
              "    };\n",
              "  });\n",
              "\n",
              "  // Wait for the user to pick the files.\n",
              "  const files = yield {\n",
              "    promise: Promise.race([pickedPromise, cancelPromise]),\n",
              "    response: {\n",
              "      action: 'starting',\n",
              "    }\n",
              "  };\n",
              "\n",
              "  cancel.remove();\n",
              "\n",
              "  // Disable the input element since further picks are not allowed.\n",
              "  inputElement.disabled = true;\n",
              "\n",
              "  if (!files) {\n",
              "    return {\n",
              "      response: {\n",
              "        action: 'complete',\n",
              "      }\n",
              "    };\n",
              "  }\n",
              "\n",
              "  for (const file of files) {\n",
              "    const li = document.createElement('li');\n",
              "    li.append(span(file.name, {fontWeight: 'bold'}));\n",
              "    li.append(span(\n",
              "        `(${file.type || 'n/a'}) - ${file.size} bytes, ` +\n",
              "        `last modified: ${\n",
              "            file.lastModifiedDate ? file.lastModifiedDate.toLocaleDateString() :\n",
              "                                    'n/a'} - `));\n",
              "    const percent = span('0% done');\n",
              "    li.appendChild(percent);\n",
              "\n",
              "    outputElement.appendChild(li);\n",
              "\n",
              "    const fileDataPromise = new Promise((resolve) => {\n",
              "      const reader = new FileReader();\n",
              "      reader.onload = (e) => {\n",
              "        resolve(e.target.result);\n",
              "      };\n",
              "      reader.readAsArrayBuffer(file);\n",
              "    });\n",
              "    // Wait for the data to be ready.\n",
              "    let fileData = yield {\n",
              "      promise: fileDataPromise,\n",
              "      response: {\n",
              "        action: 'continue',\n",
              "      }\n",
              "    };\n",
              "\n",
              "    // Use a chunked sending to avoid message size limits. See b/62115660.\n",
              "    let position = 0;\n",
              "    do {\n",
              "      const length = Math.min(fileData.byteLength - position, MAX_PAYLOAD_SIZE);\n",
              "      const chunk = new Uint8Array(fileData, position, length);\n",
              "      position += length;\n",
              "\n",
              "      const base64 = btoa(String.fromCharCode.apply(null, chunk));\n",
              "      yield {\n",
              "        response: {\n",
              "          action: 'append',\n",
              "          file: file.name,\n",
              "          data: base64,\n",
              "        },\n",
              "      };\n",
              "\n",
              "      let percentDone = fileData.byteLength === 0 ?\n",
              "          100 :\n",
              "          Math.round((position / fileData.byteLength) * 100);\n",
              "      percent.textContent = `${percentDone}% done`;\n",
              "\n",
              "    } while (position < fileData.byteLength);\n",
              "  }\n",
              "\n",
              "  // All done.\n",
              "  yield {\n",
              "    response: {\n",
              "      action: 'complete',\n",
              "    }\n",
              "  };\n",
              "}\n",
              "\n",
              "scope.google = scope.google || {};\n",
              "scope.google.colab = scope.google.colab || {};\n",
              "scope.google.colab._files = {\n",
              "  _uploadFiles,\n",
              "  _uploadFilesContinue,\n",
              "};\n",
              "})(self);\n",
              "</script> "
            ]
          },
          "metadata": {}
        },
        {
          "output_type": "stream",
          "name": "stdout",
          "text": [
            "Saving images.jpeg to images (4).jpeg\n",
            "1/1 [==============================] - 0s 49ms/step\n",
            "images (4).jpeg\n",
            "Ini adalah Gambar Gunting (Scissor)\n"
          ]
        },
        {
          "output_type": "display_data",
          "data": {
            "text/plain": [
              "<Figure size 640x480 with 1 Axes>"
            ],
            "image/png": "[encoded data removed]"
          },
          "metadata": {}
        }
      ]
    },
    {
      "cell_type": "code",
      "source": [
        "# cek akurasi\n",
        "loss, accuracy = model.evaluate(validation_generator)\n",
        "print('Accuracy:', accuracy)"
      ],
      "metadata": {
        "id": "pWSRBo6dpI2j",
        "colab": {
          "base_uri": "https://localhost:8080/"
        },
        "outputId": "8b9fdfd3-375b-4519-bb98-b032894dc4f1"
      },
      "execution_count": 103,
      "outputs": [
        {
          "output_type": "stream",
          "name": "stdout",
          "text": [
            "28/28 [==============================] - 14s 496ms/step - loss: 0.1838 - accuracy: 0.9474\n",
            "Accuracy: 0.9473684430122375\n"
          ]
        }
      ]
    }
  ]
}